{
 "cells": [
  {
   "cell_type": "code",
   "execution_count": null,
   "id": "d3d6ccf5",
   "metadata": {},
   "outputs": [],
   "source": [
    "#%pip install ultralytics\n",
    "#%pip install roboflow"
   ]
  },
  {
   "cell_type": "code",
   "execution_count": null,
   "id": "2eed429c",
   "metadata": {},
   "outputs": [],
   "source": [
    "from roboflow import Roboflow\n",
    "rf = Roboflow(api_key=\"--------------\")\n",
    "project = rf.workspace(\"degree-n9l9m\").project(\"tennis-pose-estimation-erpft\")\n",
    "version = project.version(1)\n",
    "dataset = version.download(\"yolov8\")\n",
    "\n",
    "dataset.location"
   ]
  },
  {
   "cell_type": "code",
   "execution_count": null,
   "id": "2a41e3d5",
   "metadata": {},
   "outputs": [],
   "source": [
    "import shutil\n",
    "\n",
    "shutil.move('Tennis-Pose-Estimation-1/train', 'Tennis-Pose-Estimation-1/Tennis-Pose-Estimation-1/train')\n",
    "shutil.move('Tennis-Pose-Estimation-1/test', 'Tennis-Pose-Estimation-1/Tennis-Pose-Estimation-1/test')\n",
    "shutil.move('Tennis-Pose-Estimation-1/valid', 'Tennis-Pose-Estimation-1/Tennis-Pose-Estimation-1/valid')"
   ]
  },
  {
   "cell_type": "code",
   "execution_count": null,
   "id": "e05b2ecb",
   "metadata": {},
   "outputs": [],
   "source": [
    "\n",
    "!yolo task=pose mode=train model=yolov8m-pose.pt data={dataset.location}/data.yaml epochs=20 imgsz=640\n"
   ]
  }
 ],
 "metadata": {
  "kernelspec": {
   "display_name": "Python 3",
   "language": "python",
   "name": "python3"
  },
  "language_info": {
   "codemirror_mode": {
    "name": "ipython",
    "version": 3
   },
   "file_extension": ".py",
   "mimetype": "text/x-python",
   "name": "python",
   "nbconvert_exporter": "python",
   "pygments_lexer": "ipython3",
   "version": "3.10.0"
  }
 },
 "nbformat": 4,
 "nbformat_minor": 5
}
